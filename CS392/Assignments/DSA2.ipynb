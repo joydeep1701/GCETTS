{
 "cells": [
  {
   "cell_type": "markdown",
   "metadata": {},
   "source": [
    "# Data Structure Assignment - 1\n",
    "\n",
    "## Problems\n",
    "\n",
    "- Write a C program to create a singly linked list to perform the following operations: \n",
    "    - Insert element\n",
    "    - Delete element\n",
    "    - Search a given element\n",
    "- Write a C program to create a singly circular linked list to perform the following operations: \n",
    "    - Insert element\n",
    "    - Delete element\n",
    "    - Search a given element\n",
    "- Write a C program to create a doubly linked list to perform the following operations: \n",
    "    - Insert element\n",
    "    - Delete element\n",
    "    - Search a given element\n",
    "\n",
    "- Write a C program to add two polynomial using linked lists"
   ]
  }
 ],
 "metadata": {
  "kernelspec": {
   "display_name": "Python 3",
   "language": "python",
   "name": "python3"
  },
  "language_info": {
   "codemirror_mode": {
    "name": "ipython",
    "version": 3
   },
   "file_extension": ".py",
   "mimetype": "text/x-python",
   "name": "python",
   "nbconvert_exporter": "python",
   "pygments_lexer": "ipython3",
   "version": "3.6.0"
  }
 },
 "nbformat": 4,
 "nbformat_minor": 2
}
