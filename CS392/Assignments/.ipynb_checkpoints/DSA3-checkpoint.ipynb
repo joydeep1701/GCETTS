{
 "cells": [
  {
   "cell_type": "markdown",
   "metadata": {},
   "source": [
    "# Data Structure Assignment - 3\n",
    "\n",
    "## Problems\n",
    "\n",
    "- Write a C program to perform push and pop operation on a stack array\n",
    "- Write a C program to perform push and pop operation on a linked stack\n",
    "- Write a C program to reverse a string using stack\n",
    "- Write a C program to evaluate postfix notation\n",
    "- Write a C program to infix notation into equivalent postfix notation\n",
    "- Write a C program to to implement a circular queue\n",
    "- Write a C program to implement input, output on restricted dequeues"
   ]
  }
 ],
 "metadata": {
  "kernelspec": {
   "display_name": "Python 3",
   "language": "python",
   "name": "python3"
  },
  "language_info": {
   "codemirror_mode": {
    "name": "ipython",
    "version": 3
   },
   "file_extension": ".py",
   "mimetype": "text/x-python",
   "name": "python",
   "nbconvert_exporter": "python",
   "pygments_lexer": "ipython3",
   "version": "3.6.0"
  }
 },
 "nbformat": 4,
 "nbformat_minor": 2
}
