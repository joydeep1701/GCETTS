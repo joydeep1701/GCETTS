{
 "cells": [
  {
   "cell_type": "markdown",
   "metadata": {},
   "source": [
    "# Band Gap"
   ]
  },
  {
   "cell_type": "code",
   "execution_count": 1,
   "metadata": {
    "collapsed": true
   },
   "outputs": [],
   "source": [
    "%matplotlib inline\n",
    "import gcetts"
   ]
  },
  {
   "cell_type": "code",
   "execution_count": 15,
   "metadata": {
    "collapsed": false
   },
   "outputs": [
    {
     "name": "stdout",
     "output_type": "stream",
     "text": [
      "35.90   30.00   303.00   3.30   11272.60   2034.77\n",
      "35.50   35.00   308.00   3.25   11147.00   2012.09\n",
      "33.20   40.00   313.00   3.19   10424.80   1881.73\n",
      "31.50   45.00   318.00   3.14   9891.00   1785.38\n",
      "28.80   50.00   323.00   3.10   9043.20   1632.35\n",
      "26.00   55.00   328.00   3.05   8164.00   1473.65\n",
      "22.60   60.00   333.00   3.00   7096.40   1280.94\n",
      "19.40   65.00   338.00   2.96   6091.60   1099.57\n",
      "17.00   70.00   343.00   2.92   5338.00   963.54\n",
      "14.70   75.00   348.00   2.87   4615.80   833.18\n",
      "12.50   80.00   353.00   2.83   3925.00   708.48\n",
      "10.60   85.00   358.00   2.79   3328.40   600.79\n",
      "9.10   90.00   363.00   2.75   2857.40   515.78\n",
      "7.70   95.00   368.00   2.72   2417.80   436.43\n",
      "6.60   100.00   373.00   2.68   2072.40   374.08\n",
      "5.70   105.00   378.00   2.65   1789.80   323.07\n",
      "4.90   110.00   383.00   2.61   1538.60   277.73\n",
      "4.20   115.00   388.00   2.58   1318.80   238.05\n",
      "3.80   120.00   393.00   2.54   1193.20   215.38\n"
     ]
    }
   ],
   "source": [
    "V = [35.9,35.5,33.2,31.5,28.8,26.0,22.6,19.4,17.0,14.7,12.5,10.6,9.1,7.7,6.6,5.7,4.9,4.2,3.8]\n",
    "t = [x for x in range(30,121,5)]\n",
    "T = [x+273 for x in range(30,121,5)]\n",
    "TI = [1/(x+273) for x in range(30,121,5)]\n",
    "I = 4.0\n",
    "S = 0.2\n",
    "G7ws = 5.54\n",
    "P_O = [v/I*2*3.14*S for v in V]\n",
    "P = [x/G7ws for x in P_O]\n",
    "for m,n,b,v,c,x in zip(V,t,T,TI,P_O,P):\n",
    "    print(\"%0.2f   %0.2f   %0.2f   %0.2f   %0.2f   %0.2f    %0.2f\"%(m,n,b,v*1000,c*1000,x*1000,math.log(p)))"
   ]
  }
 ],
 "metadata": {
  "kernelspec": {
   "display_name": "Python 3",
   "language": "python",
   "name": "python3"
  },
  "language_info": {
   "codemirror_mode": {
    "name": "ipython",
    "version": 3
   },
   "file_extension": ".py",
   "mimetype": "text/x-python",
   "name": "python",
   "nbconvert_exporter": "python",
   "pygments_lexer": "ipython3",
   "version": "3.6.0"
  }
 },
 "nbformat": 4,
 "nbformat_minor": 2
}
