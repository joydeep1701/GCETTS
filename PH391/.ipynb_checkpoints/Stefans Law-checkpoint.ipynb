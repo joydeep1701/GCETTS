{
 "cells": [
  {
   "cell_type": "markdown",
   "metadata": {},
   "source": [
    "$$R_t = R_0(1+\\alpha t+\\beta t^2)$$\n",
    "\n",
    "\n",
    "$$\\frac{R_t}{R_D} = \\frac{(1+\\alpha t+\\beta t^2)}{(1+\\alpha t_D+\\beta t^2_D)}$$\n",
    "\n",
    "$$\\alpha = 5.21E(-3) \\ \\ \\ \\ \\beta = 7.2E(-7)$$"
   ]
  },
  {
   "cell_type": "code",
   "execution_count": 5,
   "metadata": {
    "collapsed": false
   },
   "outputs": [
    {
     "name": "stdout",
     "output_type": "stream",
     "text": [
      "Populating the interactive namespace from numpy and matplotlib\n"
     ]
    }
   ],
   "source": [
    "% pylab inline"
   ]
  },
  {
   "cell_type": "markdown",
   "metadata": {},
   "source": [
    "### Plotting Rt/Rd vs T"
   ]
  },
  {
   "cell_type": "code",
   "execution_count": 7,
   "metadata": {
    "collapsed": false
   },
   "outputs": [
    {
     "data": {
      "text/plain": [
       "[<matplotlib.lines.Line2D at 0x7f366adb12b0>]"
      ]
     },
     "execution_count": 7,
     "metadata": {},
     "output_type": "execute_result"
    },
    {
     "data": {
      "image/png": "[encoded data removed]",
      "text/plain": [
       "<matplotlib.figure.Figure at 0x7f366e1311d0>"
      ]
     },
     "metadata": {},
     "output_type": "display_data"
    }
   ],
   "source": [
    "T = [x*400 for x in range(1,8)]\n",
    "Rt_Rd = [0.42,1.00,1.63,2.33,3.05,3.89,4.75]\n",
    "plot(T,Rt_Rd)"
   ]
  },
  {
   "cell_type": "markdown",
   "metadata": {},
   "source": [
    "### Step 4 [Table -1]"
   ]
  },
  {
   "cell_type": "code",
   "execution_count": 12,
   "metadata": {
    "collapsed": false
   },
   "outputs": [
    {
     "name": "stdout",
     "output_type": "stream",
     "text": [
      "Mean Id = 63.7\n",
      "Mean Vd = 1.241\n",
      "Rd = 19.48194662480377\n"
     ]
    }
   ],
   "source": [
    "Id = [58,61,59,72,57,65,64,68,71,62]\n",
    "Vd = [1.0,1.09,0.92,1.99,0.96,1.24,1.20,1.35,1.49,1.17]\n",
    "print(\"Mean Id = {}\".format(sum(Id)/len(Id)))\n",
    "print(\"Mean Vd = {}\".format(sum(Vd)/len(Vd)))\n",
    "print(\"Rd = {}\".format(sum(Vd)/sum(Id) * 1000))"
   ]
  },
  {
   "cell_type": "markdown",
   "metadata": {},
   "source": [
    "### Table - 2"
   ]
  },
  {
   "cell_type": "code",
   "execution_count": 32,
   "metadata": {
    "collapsed": false
   },
   "outputs": [
    {
     "name": "stdout",
     "output_type": "stream",
     "text": [
      "  I      V      P\n",
      "0.070  1.160  0.081 \n",
      "0.085  2.040  0.173 \n",
      "0.100  2.730  0.273 \n",
      "0.115  3.490  0.401 \n",
      "0.130  4.320  0.562 \n",
      "0.145  5.320  0.771 \n",
      "0.160  6.430  1.029 \n",
      "0.175  7.630  1.335 \n",
      "0.190  8.600  1.634 \n",
      "0.205  9.900  2.030 \n"
     ]
    }
   ],
   "source": [
    "I = [(70 + x*15)/1000 for x in range(10)]\n",
    "V = [1.16,2.04,2.73,3.49,4.32,5.32,6.43,7.63,8.60,9.90]\n",
    "P = [v*i for v,i in zip(V,I)]\n",
    "R = [v/i for v,i in zip(V,I)]\n",
    "print(\"  I      V      P\")\n",
    "for i,v,p in zip(I,V,P):\n",
    "    print(\"{:0.3f}  {:0.3f}  {:0.3f} \".format(i,v,p))"
   ]
  }
 ],
 "metadata": {
  "kernelspec": {
   "display_name": "Python 3",
   "language": "python",
   "name": "python3"
  },
  "language_info": {
   "codemirror_mode": {
    "name": "ipython",
    "version": 3
   },
   "file_extension": ".py",
   "mimetype": "text/x-python",
   "name": "python",
   "nbconvert_exporter": "python",
   "pygments_lexer": "ipython3",
   "version": "3.6.0"
  }
 },
 "nbformat": 4,
 "nbformat_minor": 2
}
