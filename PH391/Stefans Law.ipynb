{
 "cells": [
  {
   "cell_type": "markdown",
   "metadata": {},
   "source": [
    "# Stefan's Law [Filament Method]\n",
    "**EXP:01**\n",
    "\n",
    "**Date:10-08-17**\n",
    "\n",
    "Joydeep Mukherjee,Kushal Adhikary[??],Abhijit Sarkar"
   ]
  },
  {
   "cell_type": "markdown",
   "metadata": {},
   "source": [
    "$$R_t = R_0(1+\\alpha t+\\beta t^2)$$\n",
    "\n",
    "\n",
    "$$\\frac{R_t}{R_D} = \\frac{(1+\\alpha t+\\beta t^2)}{(1+\\alpha t_D+\\beta t^2_D)}$$\n",
    "\n",
    "$$\\alpha = 5.21E(-3) \\ \\ \\ \\ \\beta = 7.2E(-7)$$"
   ]
  },
  {
   "cell_type": "code",
   "execution_count": 86,
   "metadata": {
    "collapsed": false
   },
   "outputs": [
    {
     "name": "stdout",
     "output_type": "stream",
     "text": [
      "Populating the interactive namespace from numpy and matplotlib\n"
     ]
    }
   ],
   "source": [
    "% pylab inline\n",
    "def cm2inch(*tupl):\n",
    "    inch = 2.54\n",
    "    if isinstance(tupl[0], tuple):\n",
    "        return tuple(i/inch for i in tupl[0])\n",
    "    else:\n",
    "        return tuple(i/inch for i in tupl)"
   ]
  },
  {
   "cell_type": "markdown",
   "metadata": {},
   "source": [
    "### Plotting Rt/Rd vs T"
   ]
  },
  {
   "cell_type": "code",
   "execution_count": 87,
   "metadata": {
    "collapsed": false
   },
   "outputs": [
    {
     "name": "stdout",
     "output_type": "stream",
     "text": [
      "Average Slope = 0.00142\n"
     ]
    },
    {
     "data": {
      "image/png": "[encoded data removed]",
      "text/plain": [
       "<matplotlib.figure.Figure at 0x7f366aa32470>"
      ]
     },
     "metadata": {},
     "output_type": "display_data"
    }
   ],
   "source": [
    "T = [x*400 for x in range(1,8)]\n",
    "Rt_Rd = [0.42,1.00,1.63,2.33,3.05,3.89,4.75]\n",
    "figure(figsize=cm2inch(20, 7))\n",
    "grid()\n",
    "xlim(0,2900)\n",
    "ylim(0,5)\n",
    "plot(T,Rt_Rd)\n",
    "m = []\n",
    "for t,r in zip(T,Rt_Rd):\n",
    "    m.append(r/t)\n",
    "am = sum(m)/len(m)\n",
    "print(\"Average Slope = {:0.5f}\".format(am))"
   ]
  },
  {
   "cell_type": "markdown",
   "metadata": {},
   "source": [
    "### Step 4 [Table -1]"
   ]
  },
  {
   "cell_type": "code",
   "execution_count": 88,
   "metadata": {
    "collapsed": false
   },
   "outputs": [
    {
     "name": "stdout",
     "output_type": "stream",
     "text": [
      "Mean Id = 63.7\n",
      "Mean Vd = 1.241\n",
      "Rd = 19.482\n"
     ]
    }
   ],
   "source": [
    "Id = [58,61,59,72,57,65,64,68,71,62]\n",
    "Vd = [1.0,1.09,0.92,1.99,0.96,1.24,1.20,1.35,1.49,1.17]\n",
    "Rd = sum(Vd)/sum(Id) * 1000\n",
    "print(\"Mean Id = {}\".format(sum(Id)/len(Id)))\n",
    "print(\"Mean Vd = {}\".format(sum(Vd)/len(Vd)))\n",
    "print(\"Rd = {:0.3f}\".format(Rd))"
   ]
  },
  {
   "cell_type": "markdown",
   "metadata": {},
   "source": [
    "### Table - 2"
   ]
  },
  {
   "cell_type": "code",
   "execution_count": 89,
   "metadata": {
    "collapsed": false
   },
   "outputs": [
    {
     "name": "stdout",
     "output_type": "stream",
     "text": [
      "  I      V      P       R    Rt/Rd     T\n",
      "0.070  1.160  0.081  16.571  0.851  598.004\n",
      "0.085  2.040  0.173  24.000  1.232  866.074\n",
      "0.100  2.730  0.273  27.300  1.401  985.160\n",
      "0.115  3.490  0.401  30.348  1.558  1095.145\n",
      "0.130  4.320  0.562  33.231  1.706  1199.180\n",
      "0.145  5.320  0.771  36.690  1.883  1323.999\n",
      "0.160  6.430  1.029  40.188  2.063  1450.223\n",
      "0.175  7.630  1.335  43.600  2.238  1573.368\n",
      "0.190  8.600  1.634  45.263  2.323  1633.386\n",
      "0.205  9.900  2.030  48.293  2.479  1742.711\n"
     ]
    }
   ],
   "source": [
    "I = [(70 + x*15)/1000 for x in range(10)]\n",
    "V = [1.16,2.04,2.73,3.49,4.32,5.32,6.43,7.63,8.60,9.90]\n",
    "P = [v*i for v,i in zip(V,I)]\n",
    "R = [v/i for v,i in zip(V,I)]\n",
    "T = []\n",
    "print(\"  I      V      P       R    Rt/Rd     T\")\n",
    "for i,v,p,r in zip(I,V,P,R):\n",
    "    print(\"{:0.3f}  {:0.3f}  {:0.3f}  {:0.3f}  {:0.3f}  {:0.3f}\".format(i,v,p,r,r/Rd,(r/Rd)/am))\n",
    "    T.append((r/Rd)/am)"
   ]
  },
  {
   "cell_type": "code",
   "execution_count": 96,
   "metadata": {
    "collapsed": false
   },
   "outputs": [
    {
     "data": {
      "image/png": "[encoded data removed]",
      "text/plain": [
       "<matplotlib.figure.Figure at 0x7f366a5fabe0>"
      ]
     },
     "metadata": {},
     "output_type": "display_data"
    }
   ],
   "source": [
    "xlim(2.5,3.5)\n",
    "#figure(figsize=cm2inch(15, 10))\n",
    "grid()\n",
    "plot([math.log(t,10) for t in T],[math.log(p,10) for p in P])\n",
    "show()"
   ]
  },
  {
   "cell_type": "markdown",
   "metadata": {},
   "source": [
    "Joydeep Mukherjee \n",
    "GCETTS 2017"
   ]
  }
 ],
 "metadata": {
  "kernelspec": {
   "display_name": "Python 3",
   "language": "python",
   "name": "python3"
  },
  "language_info": {
   "codemirror_mode": {
    "name": "ipython",
    "version": 3
   },
   "file_extension": ".py",
   "mimetype": "text/x-python",
   "name": "python",
   "nbconvert_exporter": "python",
   "pygments_lexer": "ipython3",
   "version": "3.6.0"
  }
 },
 "nbformat": 4,
 "nbformat_minor": 2
}
